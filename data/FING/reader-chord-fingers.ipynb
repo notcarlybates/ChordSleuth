{
 "cells": [
  {
   "cell_type": "code",
   "execution_count": 2,
   "metadata": {},
   "outputs": [
    {
     "name": "stdout",
     "output_type": "stream",
     "text": [
      "CHORD_TYPE\n",
      "7          18\n",
      "13         17\n",
      "dim        17\n",
      "6/9        17\n",
      "sus4       17\n",
      "7(#9)      17\n",
      "7(b9)      17\n",
      "m6         17\n",
      "maj7       17\n",
      "7sus4      17\n",
      "7(#5)      17\n",
      "6          17\n",
      "m9         17\n",
      "m7         17\n",
      "maj        17\n",
      "7b5        17\n",
      "9          17\n",
      "dim7       17\n",
      "aug        17\n",
      "9b5        17\n",
      "11         17\n",
      "maj9       17\n",
      "m          17\n",
      "5          16\n",
      "m11        14\n",
      "7(#11)     13\n",
      "maj13       9\n",
      "sus2        8\n",
      "m7b5        7\n",
      "13(b9)      7\n",
      "add9        5\n",
      "9(#5)       5\n",
      "m(maj7)     4\n",
      "9(#11)      3\n",
      "m6/9        3\n",
      "13(#11)     2\n",
      "m13         2\n",
      "m(maj9)     2\n",
      "6(#11)      1\n",
      "+(#11)      1\n",
      "7(b13)      1\n",
      "13(#9)      1\n",
      "Name: count, dtype: int64\n"
     ]
    }
   ],
   "source": [
    "import pandas as pd\n",
    "\n",
    "df = pd.read_csv(\"./chord-fingers.csv\", sep = ';')\n",
    "\n",
    "dropped_columns = [\"CHORD_STRUCTURE\", \"FINGER_POSITIONS\", \"NOTE_NAMES\"]\n",
    "combined_uniques = [\"CHORD_ROOT\", \"CHORD_TYPE\"]\n",
    "\n",
    "grouping = df.groupby(combined_uniques)\n",
    "\n",
    "df_dropped = df.drop(dropped_columns, axis=1)\n",
    "\n",
    "unique_types = df[[\"CHORD_ROOT\", \"CHORD_TYPE\", \"CHORD_STRUCTURE\"]].drop_duplicates()\n",
    "\n",
    "unique_types.to_csv(\"./chords-db\", header = True, index = False)\n",
    "\n",
    "df_updated = pd.read_csv(\"./chords-db\")\n",
    "\n",
    "unique_values = df_updated[\"CHORD_TYPE\"].value_counts()\n",
    "print(unique_values)"
   ]
  },
  {
   "cell_type": "code",
   "execution_count": 3,
   "metadata": {},
   "outputs": [
    {
     "name": "stdout",
     "output_type": "stream",
     "text": [
      "['m7', '6/9', 'add9', 'm6/9', '7', 'm(maj7)', '7(#11)', '13(#11)', 'm11', 'm', 'maj', 'm9', 'maj13', 'aug', 'm(maj9)', '7(#9)', 'dim7', '7(#5)', '7(b9)', '7b5', '11', '6(#11)', '+(#11)', '13(#9)', '7sus4', '7(b13)', '9', '9(#11)', 'maj9', 'maj7', 'm7b5', 'dim', '9b5', 'm13', '13', '6', 'sus4', 'sus2', '13(b9)', '9(#5)', 'm6', '5']\n"
     ]
    }
   ],
   "source": [
    "# Creating a list of the eligible chord modifiers to be included in our model\n",
    "inc_chords = df_updated[\"CHORD_TYPE\"].to_list()\n",
    "\n",
    "inc_chords = list(set(inc_chords))\n",
    "    \n",
    "print(inc_chords)"
   ]
  },
  {
   "cell_type": "code",
   "execution_count": null,
   "metadata": {},
   "outputs": [],
   "source": []
  }
 ],
 "metadata": {
  "kernelspec": {
   "display_name": "ugh",
   "language": "python",
   "name": "python3"
  },
  "language_info": {
   "codemirror_mode": {
    "name": "ipython",
    "version": 3
   },
   "file_extension": ".py",
   "mimetype": "text/x-python",
   "name": "python",
   "nbconvert_exporter": "python",
   "pygments_lexer": "ipython3",
   "version": "3.12.7"
  }
 },
 "nbformat": 4,
 "nbformat_minor": 2
}
