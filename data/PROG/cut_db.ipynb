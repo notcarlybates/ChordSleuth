{
 "cells": [
  {
   "cell_type": "code",
   "execution_count": 117,
   "metadata": {},
   "outputs": [],
   "source": [
    "import pandas as pd\n",
    "import re\n",
    "import nbimporter\n",
    "from collections import Counter"
   ]
  },
  {
   "cell_type": "code",
   "execution_count": 118,
   "metadata": {},
   "outputs": [
    {
     "name": "stdout",
     "output_type": "stream",
     "text": [
      "                                                  chords\n",
      "0      <intro_1> C <verse_1> F C E7 Amin C F C G7 C F...\n",
      "1      <intro_1> E D A/Cs E D A/Cs <verse_1> E D A/Cs...\n",
      "2      <intro_1> D Dmaj7 D Dmaj7 <verse_1> Emin A D G...\n",
      "3      <intro_1> C <verse_1> G C G C <chorus_1> F Dmi...\n",
      "4      <intro_1> C G C G <verse_1> C G C G C Bmin Emi...\n",
      "...                                                  ...\n",
      "19996  <verse_1> C F C F G C F C <verse_2> F C F G C ...\n",
      "19997  <intro_1> Fs E <verse_1> Csmin E Csmin A C E A...\n",
      "19998  <intro_1> E A Bmin A D E A Bmin A D E A Bmin <...\n",
      "19999  <intro_1> Bmin G Bmin Fsmin Fsmin7 <verse_1> B...\n",
      "20000  <intro_1> Emin Amin Emin D Emin D Emin D C D C...\n",
      "\n",
      "[20001 rows x 1 columns]\n"
     ]
    }
   ],
   "source": [
    "# Creating the dataframe\n",
    "\n",
    "df = pd.read_csv('./cutonomicon.csv')\n",
    "\n",
    "print(df)"
   ]
  },
  {
   "cell_type": "code",
   "execution_count": 119,
   "metadata": {},
   "outputs": [],
   "source": [
    "df['chords'] = df['chords'].apply(lambda s:\n",
    "    ' '.join([re.sub(r\"/[^/]*$\", \"\", chord) # Remove inversions\n",
    "              for chord in s.split() if '<' not in chord] # Remove verse notations\n",
    "))"
   ]
  },
  {
   "cell_type": "code",
   "execution_count": 150,
   "metadata": {},
   "outputs": [],
   "source": [
    "all_modifiers = ['maj7', '5', 'm11', 'maj9', '7b5', '9(#11)', '9(#5)', 'aug', 'dim', '6/9', '11', '6(#11)', '7(#9)', '13(#11)', 'dim7', 'm7b5', 'sus2', 'm(maj7)', 'maj', 'm9', '7', '7(#5)', '+(#11)', 'm(maj9)', '7(b13)', '9', '7(#11)', 'add9', '13(b9)', '13', 'm13', '7sus4', 'maj13', 'm', 'm6', '9b5', 'm7', '6', '13(#9)', 'sus4', '7(b9)', 'm6/9']\n",
    "\n",
    "# Output taken from cut_reader.pynb as valid chords\n",
    "\n"
   ]
  },
  {
   "cell_type": "code",
   "execution_count": 154,
   "metadata": {},
   "outputs": [
    {
     "name": "stdout",
     "output_type": "stream",
     "text": [
      "Valid modifier counts:\n"
     ]
    }
   ],
   "source": [
    "import re\n",
    "from collections import Counter\n",
    "\n",
    "# List of valid modifiers (as provided)\n",
    "all_modifiers = ['maj7', '5', 'm11', 'maj9', '7b5', '9(#11)', '9(#5)', 'aug', 'dim', '6/9', '11', '6(#11)', '7(#9)', '13(#11)', 'dim7', 'm7b5', 'sus2', 'm(maj7)', 'maj', 'm9', '7', '7(#5)', '+(#11)', 'm(maj9)', '7(b13)', '9', '7(#11)', 'add9', '13(b9)', '13', 'm13', '7sus4', 'maj13', 'm', 'm6', '9b5', 'm7', '6', '13(#9)', 'sus4', '7(b9)', 'm6/9']\n",
    "\n",
    "def extract_modifier_and_root(chord):\n",
    "    # Match the root (A-G) and modifier\n",
    "    match = re.search(r'([A-G+)([^\\w\\s]+)?', chord)  # Match root + modifier\n",
    "    if match:\n",
    "        root = match.group(1)\n",
    "        modifier = match.group(2) if match.group(2) else None\n",
    "        return root, modifier\n",
    "    return None, None\n",
    "\n",
    "# List to store valid modifiers found in the dataset\n",
    "valid_modifier_matches = []\n",
    "\n",
    "# Iterate through the 'chords' column in the DataFrame 'df'\n",
    "for line in df['chords']:\n",
    "    chords = line.split()  # Split the string into individual chords\n",
    "    for chord in chords:\n",
    "        root, modifier = extract_modifier_and_root(chord)\n",
    "        if modifier and modifier.strip() in all_modifiers:\n",
    "            valid_modifier_matches.append(modifier.strip())  # Count valid modifier match\n",
    "\n",
    "# Count the frequency of each valid modifier\n",
    "modifier_counts = Counter(valid_modifier_matches)\n",
    "\n",
    "# Print the modifier counts\n",
    "print(\"Valid modifier counts:\")\n",
    "for modifier, count in modifier_counts.items():\n",
    "    print(f\"{modifier}: {count}\")\n"
   ]
  },
  {
   "cell_type": "code",
   "execution_count": 148,
   "metadata": {},
   "outputs": [
    {
     "name": "stdout",
     "output_type": "stream",
     "text": [
      "['7', 'sus4', '9', '13', '11']\n"
     ]
    }
   ],
   "source": [
    "print(top_14_modifiers)"
   ]
  },
  {
   "cell_type": "code",
   "execution_count": null,
   "metadata": {},
   "outputs": [],
   "source": []
  },
  {
   "cell_type": "code",
   "execution_count": null,
   "metadata": {},
   "outputs": [],
   "source": [
    "# Next task: Change the regex so that it matches any valid root (incllusive of sharps), and the second part as any valid modifier in the list. If the second character (potential sharp) is an s and has a valid modifier following it, then the sharp is part of the root chord. If it does not have a valid modifier following it (check each character until a match is found, stop interpreting at match to avoid interpreting modified chords that arent in the val chord match), then it is part of the root. If there is no modifier following, then it is part of the root note."
   ]
  }
 ],
 "metadata": {
  "kernelspec": {
   "display_name": "ugh",
   "language": "python",
   "name": "python3"
  },
  "language_info": {
   "codemirror_mode": {
    "name": "ipython",
    "version": 3
   },
   "file_extension": ".py",
   "mimetype": "text/x-python",
   "name": "python",
   "nbconvert_exporter": "python",
   "pygments_lexer": "ipython3",
   "version": "3.12.7"
  }
 },
 "nbformat": 4,
 "nbformat_minor": 2
}
