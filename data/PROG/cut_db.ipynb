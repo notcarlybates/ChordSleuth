{
 "cells": [
  {
   "cell_type": "code",
   "execution_count": 85,
   "metadata": {},
   "outputs": [],
   "source": [
    "import pandas as pd\n",
    "import re\n",
    "from collections import Counter"
   ]
  },
  {
   "cell_type": "code",
   "execution_count": null,
   "metadata": {},
   "outputs": [
    {
     "data": {
      "text/html": [
       "<div>\n",
       "<style scoped>\n",
       "    .dataframe tbody tr th:only-of-type {\n",
       "        vertical-align: middle;\n",
       "    }\n",
       "\n",
       "    .dataframe tbody tr th {\n",
       "        vertical-align: top;\n",
       "    }\n",
       "\n",
       "    .dataframe thead th {\n",
       "        text-align: right;\n",
       "    }\n",
       "</style>\n",
       "<table border=\"1\" class=\"dataframe\">\n",
       "  <thead>\n",
       "    <tr style=\"text-align: right;\">\n",
       "      <th></th>\n",
       "      <th>chords</th>\n",
       "    </tr>\n",
       "  </thead>\n",
       "  <tbody>\n",
       "    <tr>\n",
       "      <th>0</th>\n",
       "      <td>&lt;intro_1&gt; C &lt;verse_1&gt; F C E7 Amin C F C G7 C F...</td>\n",
       "    </tr>\n",
       "    <tr>\n",
       "      <th>1</th>\n",
       "      <td>&lt;intro_1&gt; E D A/Cs E D A/Cs &lt;verse_1&gt; E D A/Cs...</td>\n",
       "    </tr>\n",
       "    <tr>\n",
       "      <th>2</th>\n",
       "      <td>&lt;intro_1&gt; D Dmaj7 D Dmaj7 &lt;verse_1&gt; Emin A D G...</td>\n",
       "    </tr>\n",
       "    <tr>\n",
       "      <th>3</th>\n",
       "      <td>&lt;intro_1&gt; C &lt;verse_1&gt; G C G C &lt;chorus_1&gt; F Dmi...</td>\n",
       "    </tr>\n",
       "    <tr>\n",
       "      <th>4</th>\n",
       "      <td>&lt;intro_1&gt; C G C G &lt;verse_1&gt; C G C G C Bmin Emi...</td>\n",
       "    </tr>\n",
       "  </tbody>\n",
       "</table>\n",
       "</div>"
      ],
      "text/plain": [
       "                                              chords\n",
       "0  <intro_1> C <verse_1> F C E7 Amin C F C G7 C F...\n",
       "1  <intro_1> E D A/Cs E D A/Cs <verse_1> E D A/Cs...\n",
       "2  <intro_1> D Dmaj7 D Dmaj7 <verse_1> Emin A D G...\n",
       "3  <intro_1> C <verse_1> G C G C <chorus_1> F Dmi...\n",
       "4  <intro_1> C G C G <verse_1> C G C G C Bmin Emi..."
      ]
     },
     "execution_count": 86,
     "metadata": {},
     "output_type": "execute_result"
    }
   ],
   "source": [
    "# Creating the dataframe\n",
    "\n",
    "df = pd.read_csv('./chordonomicon.csv') # Shortened version of real chordonomicon\n",
    "\n",
    "df.head()"
   ]
  },
  {
   "cell_type": "code",
   "execution_count": 87,
   "metadata": {},
   "outputs": [],
   "source": [
    "df['chords'] = df['chords'].apply(lambda s:\n",
    "    ' '.join([re.sub(r\"/[^/]*$\", \"\", chord) # Remove inversions\n",
    "              for chord in s.split()]\n",
    "))\n",
    "\n",
    "all_songs = df['chords'].str.replace(r'<.*?>', '', regex=True).str.strip() # Remove verse notations"
   ]
  },
  {
   "cell_type": "code",
   "execution_count": null,
   "metadata": {},
   "outputs": [],
   "source": [
    "all_songs.to_csv('./cutonomicon')"
   ]
  },
  {
   "cell_type": "code",
   "execution_count": 105,
   "metadata": {},
   "outputs": [],
   "source": [
    "def root_checker(chord):\n",
    "    if len(chord) == 1:\n",
    "        return chord[0]\n",
    "\n",
    "    if chord[1] == 'b' or (chord[1] == 's' and (len(chord) < 3 or chord[2] != 'u')): # Check for flat, sharp, and sus\n",
    "        return chord[:2]\n",
    "    \n",
    "    return chord[0]  # Returns chord\n",
    "\n",
    "all_modifiers = ['', 'min', 'maj', 'maj7', '5', 'm11', 'maj9', '7b5', '9(#11)', '9(#5)', 'aug', 'dim', '6/9', '11', '6(#11)', '7(#9)', '13(#11)', 'dim7', 'm7b5', 'sus2', 'm(maj7)', 'maj', 'min9', '7', '7(#5)', '+(#11)', 'min(maj9)', '7(b13)', '9', '7(#11)', 'add9', '13(b9)', '13', 'm13', '7sus4', 'maj13', 'min', 'min6', '9b5', 'min7', '6', '13(#9)', 'sus4', '7(b9)', 'min6/9']\n",
    "all_notes = [\"Ab\", \"A\", \"As\", \"Bb\", \"B\", \"C\", \"Cs\", \"Db\", \"D\", \"Ds\", \"Eb\", \"E\", \"F\", \"Fs\", \"Gb\", \"G\", \"Gs\"]\n",
    "\n",
    "valid_songs = []\n",
    "\n",
    "for song in all_songs:\n",
    "    split_song = song.split()\n",
    "    valid_song = True\n",
    "\n",
    "    for chord in split_song:\n",
    "        root = root_checker(chord)\n",
    "        rootless_chord = chord[len(root):]  # Removes root from chord based on the root length\n",
    "\n",
    "        if rootless_chord not in all_modifiers:\n",
    "            valid_song = False\n",
    "            break  # Skip the song if it has unknown chords\n",
    "\n",
    "    if valid_song:\n",
    "        valid_songs.append(song)\n"
   ]
  },
  {
   "cell_type": "code",
   "execution_count": 108,
   "metadata": {},
   "outputs": [
    {
     "name": "stdout",
     "output_type": "stream",
     "text": [
      "                                                  chords\n",
      "0      C  F C E7 Amin C F C G7 C F C E7 Amin C F G7 C...\n",
      "1      E D A E D A  E D A E D A E D A E D A C  E G D ...\n",
      "2      D Dmaj7 D Dmaj7  Emin A D G Emin A D G Emin A ...\n",
      "3      C  G C G C  F Dmin G Dmin G C  G C  F Dmin G D...\n",
      "4      C G C G  C G C G C Bmin Emin Amin D  G C D G C...\n",
      "...                                                  ...\n",
      "18197  C F C F G C F C  F C F G C C7  F Fs G C C7 F G...\n",
      "18198  Fs E  Csmin E Csmin A C E A C E  Csmin E Csmin...\n",
      "18199  E A Bmin A D E A Bmin A D E A Bmin  A D E A Bm...\n",
      "18200  Bmin G Bmin Fsmin Fsmin7  Bmin Fsmin Bmin Fsmi...\n",
      "18201  Emin Amin Emin D Emin D Emin D C D C D Emin  D...\n",
      "\n",
      "[18202 rows x 1 columns]\n"
     ]
    }
   ],
   "source": [
    "cutonomicon = pd.DataFrame(valid_songs, columns=['chords'])\n",
    "\n",
    "cutonomicon.to_csv('./cutonomicon')\n",
    "print(cutonomicon)"
   ]
  },
  {
   "cell_type": "code",
   "execution_count": null,
   "metadata": {},
   "outputs": [],
   "source": []
  }
 ],
 "metadata": {
  "kernelspec": {
   "display_name": "Python 3",
   "language": "python",
   "name": "python3"
  },
  "language_info": {
   "codemirror_mode": {
    "name": "ipython",
    "version": 3
   },
   "file_extension": ".py",
   "mimetype": "text/x-python",
   "name": "python",
   "nbconvert_exporter": "python",
   "pygments_lexer": "ipython3",
   "version": "3.13.2"
  }
 },
 "nbformat": 4,
 "nbformat_minor": 2
}
