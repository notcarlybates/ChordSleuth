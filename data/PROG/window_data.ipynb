{
 "cells": [
  {
   "cell_type": "code",
   "execution_count": 1,
   "metadata": {},
   "outputs": [],
   "source": [
    "import pandas as pd"
   ]
  },
  {
   "cell_type": "code",
   "execution_count": 2,
   "metadata": {},
   "outputs": [
    {
     "name": "stdout",
     "output_type": "stream",
     "text": [
      "Generated 39528498 training samples\n",
      "  input_chord chord_2 chord_3 chord_4\n",
      "0        Cmaj    Fmaj    Cmaj      E7\n",
      "1        Fmaj    Cmaj      E7    Amin\n",
      "2        Cmaj      E7    Amin    Cmaj\n",
      "3          E7    Amin    Cmaj    Fmaj\n",
      "4        Amin    Cmaj    Fmaj    Cmaj\n"
     ]
    }
   ],
   "source": [
    "try:\n",
    "    data = pd.read_csv('./cutonomicon.csv')\n",
    "except:\n",
    "    data = pd.read_csv('./cutonomicon.csv', header=None, names=['chords'])\n",
    "\n",
    "data['chords'] = data['chords'].str.replace(r'\\s+', ' ', regex=True).str.strip()\n",
    "\n",
    "def create_windowed_sequences(chord_sequence, window_size=4):\n",
    "    if pd.isna(chord_sequence):  # Handle NaN values\n",
    "        return []\n",
    "    \n",
    "    chords = chord_sequence.split()\n",
    "    sequences = []\n",
    "    \n",
    "    if len(chords) >= window_size:\n",
    "        for i in range(len(chords) - window_size + 1):\n",
    "            window = chords[i:i+window_size]\n",
    "            sequences.append({\n",
    "                'input_chord': window[0],\n",
    "                'chord_2': window[1],\n",
    "                'chord_3': window[2],\n",
    "                'chord_4': window[3]\n",
    "            })\n",
    "    \n",
    "    return sequences\n",
    "\n",
    "all_sequences = []\n",
    "for _, row in data.iterrows():  # Use data directly, not df\n",
    "    sequences = create_windowed_sequences(row['chords'])\n",
    "    all_sequences.extend(sequences)\n",
    "\n",
    "if all_sequences:  # Only create if we have data\n",
    "    result_df = pd.DataFrame(all_sequences)\n",
    "    print(f\"Generated {len(result_df)} training samples\")\n",
    "    print(result_df.head())\n",
    "else:\n",
    "    print(\"No valid sequences found - check your input data\")"
   ]
  },
  {
   "cell_type": "code",
   "execution_count": 3,
   "metadata": {},
   "outputs": [],
   "source": [
    "\n",
    "# Save all 39M sequences (compressed)\n",
    "result_df.to_parquet('all_chord_sequences.parquet.gzip', compression='gzip')"
   ]
  },
  {
   "cell_type": "code",
   "execution_count": null,
   "metadata": {},
   "outputs": [],
   "source": []
  }
 ],
 "metadata": {
  "kernelspec": {
   "display_name": "ugh",
   "language": "python",
   "name": "python3"
  },
  "language_info": {
   "codemirror_mode": {
    "name": "ipython",
    "version": 3
   },
   "file_extension": ".py",
   "mimetype": "text/x-python",
   "name": "python",
   "nbconvert_exporter": "python",
   "pygments_lexer": "ipython3",
   "version": "3.12.7"
  }
 },
 "nbformat": 4,
 "nbformat_minor": 2
}
