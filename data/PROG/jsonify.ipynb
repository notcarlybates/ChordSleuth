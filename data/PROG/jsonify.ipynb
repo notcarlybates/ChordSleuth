{
 "cells": [
  {
   "cell_type": "code",
   "execution_count": 1,
   "metadata": {},
   "outputs": [],
   "source": [
    "import json\n",
    "\n",
    "# Generate all possible chords\n",
    "notes = ['A', 'A#', 'B', 'C', 'C#', 'D', 'D#', 'E', 'F', 'F#', 'G', 'G#']\n",
    "modifiers = [\n",
    "    'maj', 'min', '7', 'maj7', 'min7', 'dim', 'm7b5', \n",
    "    'sus4', '6', '9', 'min9', 'maj9', '13'\n",
    "]\n",
    "\n",
    "chord_vocab = []\n",
    "for note in notes:\n",
    "    for mod in modifiers:\n",
    "        chord = note + mod\n",
    "        chord_vocab.append(chord)\n",
    "\n",
    "# Add special tokens if needed\n",
    "chord_vocab.append('<start>')\n",
    "chord_vocab.append('<end>')\n",
    "chord_vocab.append('<unk>')\n",
    "\n",
    "# Create mapping dictionaries\n",
    "chord_to_idx = {chord: i for i, chord in enumerate(chord_vocab)}\n",
    "idx_to_chord = {i: chord for i, chord in enumerate(chord_vocab)}\n",
    "\n",
    "# Save to JSON\n",
    "vocab_data = {\n",
    "    'chord_to_idx': chord_to_idx,\n",
    "    'idx_to_chord': idx_to_chord,\n",
    "    'notes': notes,\n",
    "    'modifiers': modifiers\n",
    "}\n",
    "\n",
    "with open('vis_chord_vocab.json', 'w') as f:\n",
    "    json.dump(vocab_data, f, indent=2)"
   ]
  },
  {
   "cell_type": "code",
   "execution_count": null,
   "metadata": {},
   "outputs": [],
   "source": []
  }
 ],
 "metadata": {
  "kernelspec": {
   "display_name": "ugh",
   "language": "python",
   "name": "python3"
  },
  "language_info": {
   "codemirror_mode": {
    "name": "ipython",
    "version": 3
   },
   "file_extension": ".py",
   "mimetype": "text/x-python",
   "name": "python",
   "nbconvert_exporter": "python",
   "pygments_lexer": "ipython3",
   "version": "3.12.7"
  }
 },
 "nbformat": 4,
 "nbformat_minor": 2
}
